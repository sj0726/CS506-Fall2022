{
 "cells": [
  {
   "cell_type": "markdown",
   "metadata": {},
   "source": [
    "# Worksheet 07\n",
    "\n",
    "Name:  Sangjoon Lee\n",
    "UID: U79516048\n",
    "\n",
    "### Topics\n",
    "\n",
    "- Soft Clustering\n",
    "- Clustering Aggregation\n",
    "\n",
    "### Probability Review\n",
    "\n",
    "Read through [the following](https://medium.com/@gallettilance/overview-of-probability-3272b72c82c8)\n",
    "\n",
    "### Soft Clustering\n",
    "\n",
    "We generate 10 data points that come from a normal distribution with mean 5 and variance 1."
   ]
  },
  {
   "cell_type": "code",
   "execution_count": 2,
   "metadata": {},
   "outputs": [
    {
     "name": "stdout",
     "output_type": "stream",
     "text": [
      "[5.494396875155613, 4.833571493442839, 4.613500433607381, 4.770597222100016, 5.439457431491844, 4.0711884686318305, 4.9994004390514135, 4.398022247992161, 4.286591671862009, 3.905665712836324]\n"
     ]
    }
   ],
   "source": [
    "import random\n",
    "import numpy as np\n",
    "from sklearn.cluster import KMeans\n",
    "\n",
    "mean = 5\n",
    "stdev = 1\n",
    "\n",
    "c1 = np.random.normal(mean, stdev, 10).tolist()\n",
    "print(c1)"
   ]
  },
  {
   "cell_type": "markdown",
   "metadata": {},
   "source": [
    "a) Generate 10 more data points, this time coming from a normal distribution with mean 8 and variance 1."
   ]
  },
  {
   "cell_type": "code",
   "execution_count": 3,
   "metadata": {},
   "outputs": [
    {
     "name": "stdout",
     "output_type": "stream",
     "text": [
      "[8.467121871289015, 7.438763083177053, 8.673007558285963, 8.021705518474782, 7.96329515791688, 6.987351659796287, 8.007747507134848, 6.711000888164377, 7.925591302991277, 6.528784211232736]\n"
     ]
    }
   ],
   "source": [
    "c2 = np.random.normal( 8 , 1 , 10 ).tolist()\n",
    "print(c2)"
   ]
  },
  {
   "cell_type": "markdown",
   "metadata": {},
   "source": [
    "b) Flip a fair coin 10 times. If the coin lands on H, then pick the last data point of `c1` and remove it from `c1`, if T then pick the last data point from `c2` and remove it from `c2`. Add these 10 points to a list called `data`."
   ]
  },
  {
   "cell_type": "code",
   "execution_count": 4,
   "metadata": {},
   "outputs": [
    {
     "name": "stdout",
     "output_type": "stream",
     "text": [
      "[6.528784211232736, 3.905665712836324, 4.286591671862009, 7.925591302991277, 4.398022247992161, 4.9994004390514135, 6.711000888164377, 8.007747507134848, 4.0711884686318305, 5.439457431491844]\n"
     ]
    }
   ],
   "source": [
    "data = []\n",
    "for i in range(10):\n",
    "    # flip coin\n",
    "    coin_output = random.choice([0, 1])\n",
    "    if coin_output == 0:\n",
    "        p1 = c1.pop()\n",
    "        data.append(p1)\n",
    "    else:\n",
    "        p2 = c2.pop()\n",
    "        data.append(p2)\n",
    "print(data)"
   ]
  },
  {
   "cell_type": "markdown",
   "metadata": {},
   "source": [
    "c) This `data` is a Gaussian Mixture Distribution with 2 mixture components. Over the next few questions we will walk through the GMM algorithm to see if we can uncover the parameters we used to generate this data. First, please list all these parameters of the GMM that created `data` and the values we know they have."
   ]
  },
  {
   "cell_type": "markdown",
   "metadata": {},
   "source": [
    "What are the parameters of a GMM?\n",
    "P(c1) = P(c2) = 1/2\n",
    "mu_1 = 5\n",
    "mu_2 = 8\n",
    "var_1 = var_2 = 1"
   ]
  },
  {
   "cell_type": "markdown",
   "metadata": {},
   "source": [
    "d) Let's assume there are two mixture components (note: we could plot the data and make the observation that there are two clusters). The EM algorithm asks us to start with a random `mean_j`, `variance_j`, `P(C_j)` for each component j. One method we could use to find sensible values for these is to apply K means with k=2 here.\n",
    "\n",
    "1. the centroids would be the estimates of the `mean_j`\n",
    "2. the intra-cluster variance could be the estimate of `variance_j`\n",
    "3. the proportion of points in each cluster could be the estimate of `P(C_j)`\n",
    "\n",
    "Go through this process and list the parameter estimates it gives. Are they close or far from the true values?"
   ]
  },
  {
   "cell_type": "code",
   "execution_count": 5,
   "metadata": {},
   "outputs": [
    {
     "name": "stdout",
     "output_type": "stream",
     "text": [
      "[3.905665712836324, 4.286591671862009, 4.398022247992161, 4.9994004390514135, 4.0711884686318305, 5.439457431491844]\n",
      "[6.528784211232736, 7.925591302991277, 6.711000888164377, 8.007747507134848]\n",
      "P(C_1) = 0.6,  P(C_2) = 0.4\n",
      "mean_1 = 4.516720995310931,  mean_2 = 7.293280977380809\n",
      "var_1 = 0.28722644412679377,  var_2 = 0.45844604444028814\n"
     ]
    }
   ],
   "source": [
    "kmeans = KMeans(2, init='k-means++').fit(X=np.array(data).reshape(-1, 1))\n",
    "\n",
    "c1 = [x[0] for x in filter(lambda x: x[1] == 0, zip(data, kmeans.labels_))]\n",
    "print(c1)\n",
    "c2 = [x[0] for x in filter(lambda x: x[1] == 1, zip(data, kmeans.labels_))]\n",
    "print(c2)\n",
    "\n",
    "prob_c = [ len(c1) / (len(c1) + len(c2)) , len(c2) / (len(c1) + len(c2)) ]\n",
    "mean = [ sum(c1)/len(c1) , sum(c2)/len(c2) ]\n",
    "var = [ sum(map(lambda x : (x - mean[0])**2, c1)) / len(c1) , sum(map(lambda x : (x - mean[1])**2, c2)) / len(c2) ]\n",
    "\n",
    "print(\"P(C_1) = \" + str(prob_c[0]) + \",  P(C_2) = \" + str(prob_c[1]))\n",
    "print(\"mean_1 = \" + str(mean[0]) + \",  mean_2 = \" + str(mean[1]))\n",
    "print(\"var_1 = \" + str(var[0]) + \",  var_2 = \" + str(var[1]))"
   ]
  },
  {
   "cell_type": "markdown",
   "metadata": {},
   "source": [
    "Probability of cluters is spot-on.\n",
    "Mean is very similar, and variance is quite different. especially for var_2."
   ]
  },
  {
   "cell_type": "markdown",
   "metadata": {},
   "source": [
    "e) For each data point, compute `P(C_j | X_i)`. Comment on which cluster you think each point belongs to based on the estimated probabilities. How does that compare to the truth?"
   ]
  },
  {
   "cell_type": "code",
   "execution_count": 6,
   "metadata": {},
   "outputs": [
    {
     "name": "stdout",
     "output_type": "stream",
     "text": [
      "point =  6.528784211232736\n",
      "probability of observing that point if it came from cluster 0 =  3.0677538532990084e-11\n",
      "probability of observing that point if it came from cluster 1 =  0.21665649353188005\n",
      "point =  3.905665712836324\n",
      "probability of observing that point if it came from cluster 0 =  0.14450492001768014\n",
      "probability of observing that point if it came from cluster 1 =  1.2102139032726803e-12\n",
      "point =  4.286591671862009\n",
      "probability of observing that point if it came from cluster 0 =  1.0076041297518603\n",
      "probability of observing that point if it came from cluster 1 =  3.9760144188593246e-10\n",
      "point =  7.925591302991277\n",
      "probability of observing that point if it came from cluster 0 =  3.6009896863569027e-31\n",
      "probability of observing that point if it came from cluster 1 =  0.33615363164439915\n",
      "point =  4.398022247992161\n",
      "probability of observing that point if it came from cluster 0 =  1.2752657332599209\n",
      "probability of observing that point if it came from cluster 1 =  1.9007693202871224e-09\n",
      "point =  4.9994004390514135\n",
      "probability of observing that point if it came from cluster 0 =  0.33842005122175184\n",
      "probability of observing that point if it came from cluster 1 =  3.185085698808232e-06\n",
      "point =  6.711000888164377\n",
      "probability of observing that point if it came from cluster 0 =  2.947076239306759e-13\n",
      "probability of observing that point if it came from cluster 1 =  0.38843696017519475\n",
      "point =  8.007747507134848\n",
      "probability of observing that point if it came from cluster 0 =  1.1597236228202445e-32\n",
      "probability of observing that point if it came from cluster 1 =  0.2583568647281789\n",
      "point =  4.0711884686318305\n",
      "probability of observing that point if it came from cluster 0 =  0.417073023953937\n",
      "probability of observing that point if it came from cluster 1 =  1.6338976605952333e-11\n",
      "point =  5.439457431491844\n",
      "probability of observing that point if it came from cluster 0 =  0.007972377023175938\n",
      "probability of observing that point if it came from cluster 1 =  0.0002448591912588627\n",
      "6.528784211232736\n",
      "Probability of coming from C_1 = 2.123929314998375e-10\n",
      "Probability of coming from C_2 = 0.999999999787607\n",
      "\n",
      "3.905665712836324\n",
      "Probability of coming from C_1 = 0.9999999999944167\n",
      "Probability of coming from C_2 = 5.583265045544719e-12\n",
      "\n",
      "4.286591671862009\n",
      "Probability of coming from C_1 = 0.9999999997369328\n",
      "Probability of coming from C_2 = 2.6306723050003954e-10\n",
      "\n",
      "7.925591302991277\n",
      "Probability of coming from C_1 = 1.606849970090261e-30\n",
      "Probability of coming from C_2 = 1.0\n",
      "\n",
      "4.398022247992161\n",
      "Probability of coming from C_1 = 0.9999999990063408\n",
      "Probability of coming from C_2 = 9.936592135661692e-10\n",
      "\n",
      "4.9994004390514135\n",
      "Probability of coming from C_1 = 0.9999937256166257\n",
      "Probability of coming from C_2 = 6.274383374272829e-06\n",
      "\n",
      "6.711000888164377\n",
      "Probability of coming from C_1 = 1.1380519394862166e-12\n",
      "Probability of coming from C_2 = 0.9999999999988619\n",
      "\n",
      "8.007747507134848\n",
      "Probability of coming from C_1 = 6.733265771980204e-32\n",
      "Probability of coming from C_2 = 1.0\n",
      "\n",
      "4.0711884686318305\n",
      "Probability of coming from C_1 = 0.999999999973883\n",
      "Probability of coming from C_2 = 2.61168918744393e-11\n",
      "\n",
      "5.439457431491844\n",
      "Probability of coming from C_1 = 0.9799352069803224\n",
      "Probability of coming from C_2 = 0.020064793019677604\n",
      "\n"
     ]
    }
   ],
   "source": [
    "from scipy.stats import norm\n",
    "\n",
    "prob_c0_x = [] # P(C_0 | X_i)\n",
    "prob_c1_x = [] # P(C_1 | X_i)\n",
    "prob_x = [] # P(X_i)\n",
    "\n",
    "k = 2\n",
    "\n",
    "for p in data:\n",
    "    print(\"point = \", p)\n",
    "    pdf_i = []\n",
    "\n",
    "    for j in range(k):\n",
    "        # P(X_i | C_j)\n",
    "        pdf_i.append(norm.pdf(p, mean[j], var[j]))\n",
    "        print(\"probability of observing that point if it came from cluster \" + str(j) + \" = \", pdf_i[j])\n",
    "        # P(C_j) already computed\n",
    "        prob_c[j]\n",
    "\n",
    "    # P(X_i) = P(C_0)P(X_i | C_0) + P(C_1)P(X_i | C_1)\n",
    "    prob_x = prob_c[0] * pdf_i[0] + prob_c[1] * pdf_i[1]\n",
    "\n",
    "    # P(C_j | X_i) = P(X_i | C_j)P(C_j) / P(X_i)\n",
    "    prob_c0_x.append( pdf_i[0] * prob_c[0] / prob_x )\n",
    "    prob_c1_x.append( pdf_i[1] * prob_c[1] / prob_x )\n",
    "\n",
    "probs = zip(data, prob_c0_x, prob_c1_x)\n",
    "for p in probs:\n",
    "    print(p[0])\n",
    "    print(\"Probability of coming from C_1 = \" + str(p[1]))\n",
    "    print(\"Probability of coming from C_2 = \" + str(p[2]))\n",
    "    print()\n"
   ]
  },
  {
   "cell_type": "markdown",
   "metadata": {},
   "source": [
    "f) Having computed `P(C_j | X_i)`, update the estimates of `mean_j`, `var_j`, and `P(C_j)`. How different are these values from the original ones you got from K means? briefly comment."
   ]
  },
  {
   "cell_type": "code",
   "execution_count": 7,
   "metadata": {},
   "outputs": [
    {
     "name": "stdout",
     "output_type": "stream",
     "text": [
      "P(C_1) = 0.5979928931522054,  P(C_2) = 0.4020071068477947\n",
      "mean_1 = 4.513624379329665,  mean_2 = 7.284024677827092\n",
      "var_1 = 1.7062158439216493,  var_2 = 1.902428674262626\n"
     ]
    }
   ],
   "source": [
    "prob_c = [sum(prob_c0_x)/ len(prob_c0_x), sum(prob_c1_x)/ len(prob_c1_x)]\n",
    "mean = [sum([x[0] * x[1] for x in zip(prob_c0_x, data)]) / sum(prob_c0_x), sum([x[0] * x[1] for x in zip(prob_c1_x, data)]) / sum(prob_c1_x)]\n",
    "var = [ sum(map(lambda x: x[0] * (x[1] - mean[0])**2, zip(prob_c0_x, data))) , sum(map(lambda x: x[0] * (x[1] - mean[1])**2, zip(prob_c1_x, data))) ]\n",
    "\n",
    "print(\"P(C_1) = \" + str(prob_c[0]) + \",  P(C_2) = \" + str(prob_c[1]))\n",
    "print(\"mean_1 = \" + str(mean[0]) + \",  mean_2 = \" + str(mean[1]))\n",
    "print(\"var_1 = \" + str(var[0]) + \",  var_2 = \" + str(var[1]))"
   ]
  },
  {
   "cell_type": "markdown",
   "metadata": {},
   "source": [
    "The probability and mean of each clusters were relatively the same.\n",
    "There is some difference in the variance, however."
   ]
  },
  {
   "cell_type": "markdown",
   "metadata": {},
   "source": [
    "g) Update `P(C_j | X_i)`. Comment on any differences or lack thereof you observe."
   ]
  },
  {
   "cell_type": "code",
   "execution_count": 8,
   "metadata": {},
   "outputs": [
    {
     "name": "stdout",
     "output_type": "stream",
     "text": [
      "point =  6.528784211232736\n",
      "probability of observing that point if it came from cluster 0 =  0.11640505569937264\n",
      "probability of observing that point if it came from cluster 1 =  0.19381146865219503\n",
      "point =  3.905665712836324\n",
      "probability of observing that point if it came from cluster 0 =  0.21943517247289832\n",
      "probability of observing that point if it came from cluster 1 =  0.04333359585087935\n",
      "point =  4.286591671862009\n",
      "probability of observing that point if it came from cluster 0 =  0.2317562144869652\n",
      "probability of observing that point if it came from cluster 1 =  0.06060973869543799\n",
      "point =  7.925591302991277\n",
      "probability of observing that point if it came from cluster 0 =  0.03166093341775802\n",
      "probability of observing that point if it came from cluster 1 =  0.19810981738779018\n",
      "point =  4.398022247992161\n",
      "probability of observing that point if it came from cluster 0 =  0.2332809484260142\n",
      "probability of observing that point if it came from cluster 1 =  0.06635548788685817\n",
      "point =  4.9994004390514135\n",
      "probability of observing that point if it came from cluster 0 =  0.22452992649882042\n",
      "probability of observing that point if it came from cluster 1 =  0.10196264376095929\n",
      "point =  6.711000888164377\n",
      "probability of observing that point if it came from cluster 0 =  0.10202725876069695\n",
      "probability of observing that point if it came from cluster 1 =  0.20040148174733674\n",
      "point =  8.007747507134848\n",
      "probability of observing that point if it came from cluster 0 =  0.028721189117941956\n",
      "probability of observing that point if it came from cluster 1 =  0.19506357976173494\n",
      "point =  4.0711884686318305\n",
      "probability of observing that point if it came from cluster 0 =  0.2260866629022838\n",
      "probability of observing that point if it came from cluster 1 =  0.0503827920298574\n",
      "point =  5.439457431491844\n",
      "probability of observing that point if it came from cluster 0 =  0.20180836859356405\n",
      "probability of observing that point if it came from cluster 1 =  0.13105766418503606\n",
      "6.528784211232736\n",
      "Probability of coming from C_1 = 0.4718545831421117\n",
      "Probability of coming from C_2 = 0.5281454168578882\n",
      "\n",
      "3.905665712836324\n",
      "Probability of coming from C_1 = 0.8828021657263785\n",
      "Probability of coming from C_2 = 0.11719783427362165\n",
      "\n",
      "4.286591671862009\n",
      "Probability of coming from C_1 = 0.8504760330005358\n",
      "Probability of coming from C_2 = 0.14952396699946433\n",
      "\n",
      "7.925591302991277\n",
      "Probability of coming from C_1 = 0.19206793005565667\n",
      "Probability of coming from C_2 = 0.8079320699443433\n",
      "\n",
      "4.398022247992161\n",
      "Probability of coming from C_1 = 0.8394748848439613\n",
      "Probability of coming from C_2 = 0.16052511515603876\n",
      "\n",
      "4.9994004390514135\n",
      "Probability of coming from C_1 = 0.7661165853155872\n",
      "Probability of coming from C_2 = 0.2338834146844127\n",
      "\n",
      "6.711000888164377\n",
      "Probability of coming from C_1 = 0.4309506349467441\n",
      "Probability of coming from C_2 = 0.569049365053256\n",
      "\n",
      "8.007747507134848\n",
      "Probability of coming from C_1 = 0.17967052431842975\n",
      "Probability of coming from C_2 = 0.8203294756815703\n",
      "\n",
      "4.0711884686318305\n",
      "Probability of coming from C_1 = 0.8697078148202226\n",
      "Probability of coming from C_2 = 0.13029218517977725\n",
      "\n",
      "5.439457431491844\n",
      "Probability of coming from C_1 = 0.6960990776452198\n",
      "Probability of coming from C_2 = 0.3039009223547802\n",
      "\n"
     ]
    }
   ],
   "source": [
    "prob_c0_x = [] # P(C_0 | X_i)\n",
    "prob_c1_x = [] # P(C_1 | X_i)\n",
    "prob_x = [] # P(X_i)\n",
    "\n",
    "k = 2\n",
    "\n",
    "for p in data:\n",
    "    print(\"point = \", p)\n",
    "    pdf_i = []\n",
    "\n",
    "    for j in range(k):\n",
    "        # P(X_i | C_j)\n",
    "        pdf_i.append(norm.pdf(p, mean[j], var[j]))\n",
    "        print(\"probability of observing that point if it came from cluster \" + str(j) + \" = \", pdf_i[j])\n",
    "        # P(C_j) already computed\n",
    "        prob_c[j]\n",
    "\n",
    "    # P(X_i) = P(C_0)P(X_i | C_0) + P(C_1)P(X_i | C_1)\n",
    "    prob_x = prob_c[0] * pdf_i[0] + prob_c[1] * pdf_i[1]\n",
    "\n",
    "    # P(C_j | X_i) = P(X_i | C_j)P(C_j) / P(X_i)\n",
    "    prob_c0_x.append( pdf_i[0] * prob_c[0] / prob_x )\n",
    "    prob_c1_x.append( pdf_i[1] * prob_c[1] / prob_x )\n",
    "\n",
    "probs = zip(data, prob_c0_x, prob_c1_x)\n",
    "for p in probs:\n",
    "    print(p[0])\n",
    "    print(\"Probability of coming from C_1 = \" + str(p[1]))\n",
    "    print(\"Probability of coming from C_2 = \" + str(p[2]))\n",
    "    print()"
   ]
  },
  {
   "cell_type": "markdown",
   "metadata": {},
   "source": [
    "The previous soft assignments were much dominant in one cluster than another (either 99% or 0%).\n",
    "The new assignments are much more realistic and shifts between 40% ~ 80% probabilyt of seeing a point from a speicific cluster."
   ]
  },
  {
   "cell_type": "markdown",
   "metadata": {},
   "source": [
    "h) Use `P(C_j | X_i)` to create a hard assignment - label each point as belonging to a specific cluster (0 or 1)"
   ]
  },
  {
   "cell_type": "code",
   "execution_count": 10,
   "metadata": {},
   "outputs": [
    {
     "data": {
      "text/plain": [
       "array([1, 0, 0, 1, 0, 0, 1, 1, 0, 0], dtype=int32)"
      ]
     },
     "execution_count": 10,
     "metadata": {},
     "output_type": "execute_result"
    }
   ],
   "source": [
    "for p in probs:\n",
    "    # if it has greater probability, assign it to that cluster\n",
    "    if p[1] > p[2]:\n",
    "        kmeans.labels_[data.index(p[0])] = 0\n",
    "    else:\n",
    "        kmeans.labels_[data.index(p[0])] = 1\n",
    "\n",
    "kmeans.labels_"
   ]
  },
  {
   "cell_type": "markdown",
   "metadata": {},
   "source": [
    "### Clustering Aggregation\n",
    "\n",
    "| Point | C | P |\n",
    "|-------|---|---|\n",
    "| A     | 0 | a |\n",
    "| B     | 0 | b |\n",
    "| C     | 2 | b |\n",
    "| D     | 1 | c |\n",
    "| E     | 1 | d |\n",
    "\n",
    "a) Fill in the following table where for each pair of points determine whether C and P agree or disagree on how to cluster that pair."
   ]
  },
  {
   "cell_type": "markdown",
   "metadata": {},
   "source": [
    "| Pair | Disagreement |\n",
    "|------|--------------|\n",
    "| A  B |      1       |\n",
    "| A  C |      0       |\n",
    "| A  D |      0       |\n",
    "| A  E |      0       |\n",
    "| B  C |      1       |\n",
    "| B  D |      0       |\n",
    "| B  E |      0       |\n",
    "| C  D |      0       |\n",
    "| C  E |      0       |\n",
    "| D  E |      1       |\n"
   ]
  },
  {
   "cell_type": "markdown",
   "metadata": {},
   "source": [
    "As datasets become very large, this process can become computationally challenging.\n",
    "\n",
    "b) Given N points, what is the formula for the number of unique pairs of points one can create?"
   ]
  },
  {
   "cell_type": "markdown",
   "metadata": {},
   "source": [
    "$\\frac{(n)(n-1)}{2}$"
   ]
  },
  {
   "cell_type": "markdown",
   "metadata": {},
   "source": [
    "Assume that clustering C clusters all points in the same cluster and clustering P clusters points as such:\n",
    "\n",
    "| Point | P |\n",
    "|-------|---|\n",
    "| A     | 0 |\n",
    "| B     | 0 |\n",
    "| C     | 0 |\n",
    "| D     | 1 |\n",
    "| E     | 1 |\n",
    "| F     | 2 |\n",
    "| G     | 2 |\n",
    "| H     | 2 |\n",
    "| I     | 2 |\n",
    "\n",
    "c) What is the maximum number of disagreements there could be for a dataset of this size? (use the formula from b)?"
   ]
  },
  {
   "cell_type": "markdown",
   "metadata": {},
   "source": [
    "36 disagreements"
   ]
  },
  {
   "cell_type": "markdown",
   "metadata": {},
   "source": [
    "d) If we look at cluster 0. There are (3 x 2) / 2 = 3 pairs that agree with C (since all points in C are in the same cluster). For each cluster, determine how many agreements there are. How many total agreements are there? How many disagreements does that mean there are between C and P?"
   ]
  },
  {
   "cell_type": "markdown",
   "metadata": {},
   "source": [
    "Cluster 0: 3 agreements\n",
    "Cluster 1: 1 agreement\n",
    "Cluster 2: 6 agreements\n",
    "\n",
    "Total 10 agreemeents.\n",
    "Total 26 disagreements."
   ]
  },
  {
   "cell_type": "markdown",
   "metadata": {},
   "source": [
    "e) Assuming that filtering the dataset by cluster number is a computationally easy operation, describe an algorithm inspired by the above process that can efficiently compute disagreement distances on large datasets."
   ]
  },
  {
   "cell_type": "markdown",
   "metadata": {},
   "source": [
    "For every unique pairs of points, check if the two points share a cluster in every clustering.\n",
    "If they do, return 1. If they share no clusters in every clustring, also return 1.\n",
    "Else, return 0."
   ]
  }
 ],
 "metadata": {
  "kernelspec": {
   "display_name": "Python 3.10.4 64-bit",
   "language": "python",
   "name": "python3"
  },
  "language_info": {
   "codemirror_mode": {
    "name": "ipython",
    "version": 3
   },
   "file_extension": ".py",
   "mimetype": "text/x-python",
   "name": "python",
   "nbconvert_exporter": "python",
   "pygments_lexer": "ipython3",
   "version": "3.10.4"
  },
  "orig_nbformat": 4,
  "vscode": {
   "interpreter": {
    "hash": "916dbcbb3f70747c44a77c7bcd40155683ae19c65e1c03b4aa3499c5328201f1"
   }
  }
 },
 "nbformat": 4,
 "nbformat_minor": 2
}
