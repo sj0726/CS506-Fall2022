{
 "cells": [
  {
   "cell_type": "markdown",
   "metadata": {},
   "source": [
    "# Worksheet 05\n",
    "\n",
    "Name:  Sangjoon Lee\n",
    "UID: U79516048\n",
    "\n",
    "### Topics\n",
    "\n",
    "- Hierarchical Clustering\n",
    "\n",
    "### Hierarchical Clustering\n",
    "\n",
    "Using the following dataset:\n",
    "\n",
    "| Point | x | y |\n",
    "|-------|---|---|\n",
    "| A     | 0 | 0 |\n",
    "| B     | 1 | 1 |\n",
    "| C     | 3 | 0 |\n",
    "| D     | 0 | 1 |\n",
    "| E     | 2 | 2 |\n",
    "\n",
    "with\n",
    "\n",
    "d = Euclidean  \n",
    "D = Single-Link\n",
    "\n",
    "produce the distance matrix at every step of the hierarchical clustering algorithm."
   ]
  },
  {
   "cell_type": "markdown",
   "metadata": {},
   "source": [
    "Step 1\n",
    "\n",
    "|   | A | B | C | D | E |\n",
    "|---|---|---|---|---|---|\n",
    "| A | 0 | $\\sqrt{2}$  |  3 |  1 |  $\\sqrt{8}$ |\n",
    "| B | $\\sqrt{2}$  | 0 |  $\\sqrt{5}$ |  1 | $\\sqrt{2}$  |\n",
    "| C | 3  |  $\\sqrt{5}$ | 0 | $\\sqrt{10}$  |  $\\sqrt{5}$|\n",
    "| D | 1 |    1 |  $\\sqrt{10}$ | 0 |  $\\sqrt{5}$ |\n",
    "| E | $\\sqrt{8}$ | $\\sqrt{2}$ | $\\sqrt{5}$  | $\\sqrt{5}$  | 0 |"
   ]
  },
  {
   "cell_type": "markdown",
   "metadata": {},
   "source": [
    "Step 2\n",
    "\n",
    "|    |AD | B | C | E |\n",
    "|----|---|---|---|---|\n",
    "| AD | 0 | 1 |3  |  $\\sqrt{5}$ |\n",
    "|  B |  1| 0 |   $\\sqrt{5}$| $\\sqrt{2}$  |\n",
    "|  C |  3| $\\sqrt{5}$  | 0 | $\\sqrt{5}$  |\n",
    "|  E |  $\\sqrt{5}$ | $\\sqrt{2}$  |  $\\sqrt{5}$ | 0 |"
   ]
  },
  {
   "cell_type": "markdown",
   "metadata": {},
   "source": [
    "Step 3\n",
    "\n",
    "|   |ABD| C | E |\n",
    "|---|---|---|---|\n",
    "|ABD| 0 |  $\\sqrt{5}$ | $\\sqrt{2}$  |\n",
    "|  C|  $\\sqrt{5}$ | 0 |  $\\sqrt{5}$ |\n",
    "|  E|  $\\sqrt{2}$ | $\\sqrt{5}$  | 0 |"
   ]
  },
  {
   "cell_type": "markdown",
   "metadata": {},
   "source": [
    "Step 4\n",
    "\n",
    "|    |ABDE| C |\n",
    "|----|----|---|\n",
    "|ABDE| 0  | $\\sqrt{5}$  |\n",
    "| C  |  $\\sqrt{5}$  | 0 |"
   ]
  },
  {
   "cell_type": "markdown",
   "metadata": {},
   "source": [
    "Repeat the above with\n",
    "\n",
    "d = Euclidean  \n",
    "D = Complete-Link"
   ]
  },
  {
   "cell_type": "markdown",
   "metadata": {},
   "source": [
    "Step 1\n",
    "\n",
    "|   | A | B | C | D | E |\n",
    "|---|---|---|---|---|---|\n",
    "| A | 0 | $\\sqrt{2}$  |  3 |  1 |  $\\sqrt{8}$ |\n",
    "| B | $\\sqrt{2}$  | 0 |  $\\sqrt{5}$ |  1 | $\\sqrt{2}$  |\n",
    "| C | 3  |  $\\sqrt{5}$ | 0 | $\\sqrt{10}$  |  $\\sqrt{5}$|\n",
    "| D | 1 |  1 |  $\\sqrt{10}$ | 0 |  $\\sqrt{5}$ |\n",
    "| E | $\\sqrt{8}$ | $\\sqrt{2}$ | $\\sqrt{5}$  | $\\sqrt{5}$  | 0 |"
   ]
  },
  {
   "cell_type": "markdown",
   "metadata": {},
   "source": [
    "Step 2\n",
    "\n",
    "|   | AB| C | D | E |\n",
    "|---|---|---|---|---|\n",
    "| AB| 0 | 3 | 1 |  $\\sqrt{8}$ |\n",
    "| C | 3 | 0 |  $\\sqrt{10}$ |  $\\sqrt{5}$ |\n",
    "| D | 1 |  $\\sqrt{10}$ | 0 |  $\\sqrt{5}$ |\n",
    "| E | $\\sqrt{8}$ | $\\sqrt{5}$  | $\\sqrt{5}$  | 0 |"
   ]
  },
  {
   "cell_type": "markdown",
   "metadata": {},
   "source": [
    "Step 3\n",
    "\n",
    "|   |ABD| C | E |\n",
    "|---|---|---|---|\n",
    "|ABD| 0 |  $\\sqrt{10}$ | $\\sqrt{8}$  |\n",
    "| C | $\\sqrt{10}$  | 0 |  $\\sqrt{5}$ |\n",
    "| E |  $\\sqrt{8}$ | $\\sqrt{5}$  | 0 |"
   ]
  },
  {
   "cell_type": "markdown",
   "metadata": {},
   "source": [
    "Step 4\n",
    "\n",
    "|   |ABDE| C |\n",
    "|---|---|---|\n",
    "|ABDE| 0 |  $\\sqrt{10}$ |\n",
    "| C |  $\\sqrt{10}$ | 0 |"
   ]
  }
 ],
 "metadata": {
  "kernelspec": {
   "display_name": "Python 3.10.4 64-bit",
   "language": "python",
   "name": "python3"
  },
  "language_info": {
   "name": "python",
   "version": "3.10.4"
  },
  "orig_nbformat": 4,
  "vscode": {
   "interpreter": {
    "hash": "916dbcbb3f70747c44a77c7bcd40155683ae19c65e1c03b4aa3499c5328201f1"
   }
  }
 },
 "nbformat": 4,
 "nbformat_minor": 2
}
