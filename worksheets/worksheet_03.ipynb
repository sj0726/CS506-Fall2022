{
 "cells": [
  {
   "cell_type": "markdown",
   "metadata": {},
   "source": [
    "# Worksheet 03\n",
    "\n",
    "Name: Sangjoon Lee\n",
    "UID: U79516048\n",
    "\n",
    "### Topics\n",
    "\n",
    "- Intro to DS (part 2)\n",
    "- Distance & Similarity\n",
    "\n",
    "### Before Class\n",
    "\n",
    "Read through the [linear algebra review](https://github.com/gallettilance/CS506-Fall2022/raw/master/worksheets/lecture_03_linear_algebra_review.pdf) before next class\n",
    "\n",
    "### Intro to DS (part 2)\n",
    "\n",
    "a) Give a real world example for each of the following data types:\n",
    "\n",
    "- record\n",
    "- graph\n",
    "- image\n",
    "- text\n",
    "- time series"
   ]
  },
  {
   "cell_type": "markdown",
   "metadata": {},
   "source": [
    "record\n",
    "    vectors\n",
    "graph\n",
    "    Adjacency list\n",
    "image\n",
    "    image of a person\n",
    "text\n",
    "    list of words\n",
    "    books\n",
    "time series\n",
    "    global population by year"
   ]
  },
  {
   "cell_type": "markdown",
   "metadata": {},
   "source": [
    "b) Give a real world example of unsupervised learning"
   ]
  },
  {
   "cell_type": "markdown",
   "metadata": {},
   "source": [
    "Are these articles covering the same topics? (Uncover topics)"
   ]
  },
  {
   "cell_type": "markdown",
   "metadata": {},
   "source": [
    "c) Give a real world example of supervised learning"
   ]
  },
  {
   "cell_type": "markdown",
   "metadata": {},
   "source": [
    "Temperature predictions based on number of cricket chirps per minute."
   ]
  },
  {
   "cell_type": "markdown",
   "metadata": {},
   "source": [
    "d) Describe steps of a Data Science Workflow"
   ]
  },
  {
   "cell_type": "markdown",
   "metadata": {},
   "source": [
    "1. Ask what and who the model is used / intended for.\n",
    "2. Process Data\n",
    "      - \n",
    "3. Explore Data\n",
    "      - Analyze data for better understanding and getting idea of what model can be created from it.\n",
    "      - What might be related to what you're trying to predict?\n",
    "4. Extract Features\n",
    "      - Can be done by either getting more data or extracting more information from the existing data.\n",
    "      - Can you extract better features?\n",
    "5. Create Model\n",
    "      - Garbage data in, garbage data out!\n",
    "      - Is the model easy to explain?\n",
    "      - When the model fails, can it be explained why?"
   ]
  },
  {
   "cell_type": "markdown",
   "metadata": {},
   "source": [
    "### Distance & Similarity\n",
    "\n",
    "#### Part 1\n",
    "\n",
    "a) In the minkowski distance, describe what the parameters p and d are."
   ]
  },
  {
   "cell_type": "markdown",
   "metadata": {},
   "source": [
    "p = just a tuning parameter, greater than or equal to 1\n",
    "d = number of real dimensional space"
   ]
  },
  {
   "cell_type": "markdown",
   "metadata": {},
   "source": [
    "b) In your own words describe the difference between the Euclidean distance and the Manhattan distance."
   ]
  },
  {
   "cell_type": "markdown",
   "metadata": {},
   "source": [
    "when p = 1, manhattan distance (can't go diagonal, only zig-zags)\n",
    "when p = 2, euclidean distance (can go diagonal)"
   ]
  },
  {
   "cell_type": "markdown",
   "metadata": {},
   "source": [
    "c) Describe what you think distance would look like when p is very large."
   ]
  },
  {
   "cell_type": "markdown",
   "metadata": {},
   "source": [
    "As p becomes very large, it starts to return the maximum distance between two vectors along any coordinate dimension."
   ]
  },
  {
   "cell_type": "markdown",
   "metadata": {},
   "source": [
    "d) Is the minkowski distance still a distance function when p < 1? Expain why / why not."
   ]
  },
  {
   "cell_type": "markdown",
   "metadata": {},
   "source": [
    "No, since if p < 1 then 1/p > 1. This violates the triangle inequality."
   ]
  },
  {
   "cell_type": "markdown",
   "metadata": {},
   "source": [
    "e) when would you use cosine similarity over the euclidan distance?"
   ]
  },
  {
   "cell_type": "markdown",
   "metadata": {},
   "source": [
    "When direction matters more than magnitude."
   ]
  },
  {
   "cell_type": "markdown",
   "metadata": {},
   "source": [
    "f) what does the jaccard distance account for that the manhattan distance doesn't?"
   ]
  },
  {
   "cell_type": "markdown",
   "metadata": {},
   "source": [
    "Jaccard distance accounts for how dissimilar two sets are.\n",
    "Intersection of data / Union of data."
   ]
  },
  {
   "cell_type": "markdown",
   "metadata": {},
   "source": [
    "#### Part 2\n",
    "\n",
    "(easier done after lab)\n",
    "\n",
    "Consider the following two sentences:"
   ]
  },
  {
   "cell_type": "code",
   "execution_count": null,
   "metadata": {},
   "outputs": [],
   "source": [
    "s1 = \"hello my name is Alice\"  \n",
    "s2 = \"hello my name is Bob\""
   ]
  },
  {
   "cell_type": "markdown",
   "metadata": {},
   "source": [
    "using the union of words from both sentences, we can represent each sentence as a vector. Each element of the vector represents the presence or absence of the word at that index.\n",
    "\n",
    "In this example, the union of words is (\"hello\", \"my\", \"name\", \"is\", \"Alice\", \"Bob\") so we can represent the above sentences as such:"
   ]
  },
  {
   "cell_type": "code",
   "execution_count": null,
   "metadata": {},
   "outputs": [],
   "source": [
    "v1 = [1,    1, 1,   1, 1,    0]\n",
    "#     hello my name is Alice\n",
    "v2 = [1,    1, 1,   1, 0, 1]\n",
    "#     hello my name is    Bob"
   ]
  },
  {
   "cell_type": "markdown",
   "metadata": {},
   "source": [
    "Let's add a new sentence to our corpus:"
   ]
  },
  {
   "cell_type": "code",
   "execution_count": null,
   "metadata": {},
   "outputs": [],
   "source": [
    "s3 = \"hi my name is Claude\""
   ]
  },
  {
   "cell_type": "markdown",
   "metadata": {},
   "source": [
    "a) What is the new union of words used to represent s1, s2, and s3?"
   ]
  },
  {
   "cell_type": "markdown",
   "metadata": {},
   "source": [
    "(\"hello\", \"hi\", \"my\", \"name\", \"is\", \"Alice\", \"Bob\", \"Claude\")"
   ]
  },
  {
   "cell_type": "markdown",
   "metadata": {},
   "source": [
    "b) Represent s1, s2, and s3 as vectors as above"
   ]
  },
  {
   "cell_type": "code",
   "execution_count": 2,
   "metadata": {},
   "outputs": [],
   "source": [
    "v1 = [1, 0, 1, 1, 1, 1, 0, 0]\n",
    "v2 = [1, 0, 1, 1, 1, 0, 1, 0]\n",
    "v3 = [0, 1, 1, 1, 1, 0, 0, 1]"
   ]
  },
  {
   "cell_type": "markdown",
   "metadata": {},
   "source": [
    "c) Write a function that computes the manhattan distance between two vectors. Which pair of vectors are the most similar under that distance function?"
   ]
  },
  {
   "cell_type": "code",
   "execution_count": 3,
   "metadata": {},
   "outputs": [
    {
     "name": "stdout",
     "output_type": "stream",
     "text": [
      "2\n",
      "4\n",
      "4\n"
     ]
    }
   ],
   "source": [
    "def manhattan_distance(v1, v2):\n",
    "    assert(len(v1) == len(v2))\n",
    "    d = len(v1)\n",
    "    sum = 0\n",
    "    for i in range(d):\n",
    "        sum += abs(v1[i] - v2[i])\n",
    "    return sum\n",
    "\n",
    "print(manhattan_distance(v1, v2))\n",
    "print(manhattan_distance(v1, v3))\n",
    "print(manhattan_distance(v2, v3))"
   ]
  },
  {
   "cell_type": "markdown",
   "metadata": {},
   "source": [
    "v1 and v2 are the most similar vectors under manhattan distance."
   ]
  },
  {
   "cell_type": "markdown",
   "metadata": {},
   "source": [
    "d) Create a matrix of all these vectors (row major) and add the following sentences in vector form:\n",
    "\n",
    "- \"hi Alice\"\n",
    "- \"hello Claude\"\n",
    "- \"Bob my name is Claude\"\n",
    "- \"hi Claude my name is Alice\"\n",
    "- \"hello Bob\""
   ]
  },
  {
   "cell_type": "code",
   "execution_count": 61,
   "metadata": {},
   "outputs": [
    {
     "name": "stdout",
     "output_type": "stream",
     "text": [
      "[(0, 'Alice'), (1, 'Bob'), (2, 'Claude'), (3, 'hello'), (4, 'hi'), (5, 'is'), (6, 'my'), (7, 'name')]\n"
     ]
    },
    {
     "data": {
      "text/plain": [
       "[('hi Alice', [1, 0, 0, 0, 1, 0, 0, 0]),\n",
       " ('hello Claude', [0, 0, 1, 1, 0, 0, 0, 0]),\n",
       " ('Bob my name is Claude', [0, 1, 1, 0, 0, 1, 1, 1]),\n",
       " ('hi Claude my name is Alice', [1, 0, 1, 0, 1, 1, 1, 1]),\n",
       " ('hello Bob', [0, 1, 0, 1, 0, 0, 0, 0])]"
      ]
     },
     "execution_count": 61,
     "metadata": {},
     "output_type": "execute_result"
    }
   ],
   "source": [
    "import itertools\n",
    "import pprint\n",
    "\n",
    "def create_vector(s):\n",
    "    word_list = []\n",
    "    for sentence in s:\n",
    "        for word in sentence.split():\n",
    "            word_list.append(word)\n",
    "    word_list = sorted(list(set(word_list)))\n",
    "    print(list(enumerate(word_list)))\n",
    "    \n",
    "    result = []\n",
    "    for sentence in s:\n",
    "        vector = [0] * len(word_list)\n",
    "        for word in sentence.split():\n",
    "            if word in word_list:\n",
    "                vector[word_list.index(word)] += 1\n",
    "        result.append((sentence, vector))\n",
    "    return result\n",
    "        \n",
    "\n",
    "sentences = [\"hi Alice\", \"hello Claude\", \"Bob my name is Claude\", \"hi Claude my name is Alice\", \"hello Bob\"]\n",
    "create_vector(sentences)"
   ]
  },
  {
   "cell_type": "markdown",
   "metadata": {},
   "source": [
    "(\"bob\", \"hello\", \"hi\", \"Alice\", \"Bob\", )"
   ]
  },
  {
   "cell_type": "markdown",
   "metadata": {},
   "source": [
    "e) How many rows and columns does this matrix have?"
   ]
  },
  {
   "cell_type": "markdown",
   "metadata": {},
   "source": [
    "5 rows, 8 columns"
   ]
  },
  {
   "cell_type": "markdown",
   "metadata": {},
   "source": [
    "f) When using the Jaccard distance, which two sentences are the most similar?"
   ]
  },
  {
   "cell_type": "code",
   "execution_count": 67,
   "metadata": {},
   "outputs": [
    {
     "name": "stdout",
     "output_type": "stream",
     "text": [
      "[(0, 'Alice'), (1, 'Bob'), (2, 'Claude'), (3, 'hello'), (4, 'hi'), (5, 'is'), (6, 'my'), (7, 'name')]\n",
      "v1: hi Alice v2 hello Claude jaccard distance: 1.0\n",
      "v1: hi Alice v2 Bob my name is Claude jaccard distance: 1.0\n",
      "v1: hi Alice v2 hi Claude my name is Alice jaccard distance: 0.6666666666666666\n",
      "v1: hi Alice v2 hello Bob jaccard distance: 1.0\n",
      "v1: hello Claude v2 Bob my name is Claude jaccard distance: 0.8333333333333334\n",
      "v1: hello Claude v2 hi Claude my name is Alice jaccard distance: 0.8571428571428571\n",
      "v1: hello Claude v2 hello Bob jaccard distance: 0.6666666666666666\n",
      "v1: Bob my name is Claude v2 hi Claude my name is Alice jaccard distance: 0.42857142857142855\n",
      "v1: Bob my name is Claude v2 hello Bob jaccard distance: 0.8333333333333334\n",
      "v1: hi Claude my name is Alice v2 hello Bob jaccard distance: 1.0\n"
     ]
    }
   ],
   "source": [
    "from scipy.spatial import distance\n",
    "\n",
    "vectors = create_vector(sentences)\n",
    "for v1, v2 in itertools.combinations(vectors, 2):\n",
    "    print(\"v1:\", v1[0], \"v2\", v2[0], \"jaccard distance:\", distance.jaccard(v1[1], v2[1]))"
   ]
  },
  {
   "cell_type": "markdown",
   "metadata": {},
   "source": [
    "hello Claude & hello Bob"
   ]
  }
 ],
 "metadata": {
  "kernelspec": {
   "display_name": "Python 3.10.4 64-bit",
   "language": "python",
   "name": "python3"
  },
  "language_info": {
   "codemirror_mode": {
    "name": "ipython",
    "version": 3
   },
   "file_extension": ".py",
   "mimetype": "text/x-python",
   "name": "python",
   "nbconvert_exporter": "python",
   "pygments_lexer": "ipython3",
   "version": "3.10.4"
  },
  "orig_nbformat": 4,
  "vscode": {
   "interpreter": {
    "hash": "916dbcbb3f70747c44a77c7bcd40155683ae19c65e1c03b4aa3499c5328201f1"
   }
  }
 },
 "nbformat": 4,
 "nbformat_minor": 2
}
