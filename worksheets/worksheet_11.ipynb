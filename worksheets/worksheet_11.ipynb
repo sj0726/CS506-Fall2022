{
 "cells": [
  {
   "cell_type": "markdown",
   "metadata": {},
   "source": [
    "# Worksheet 11\n",
    "\n",
    "Name:  Sangjoon Lee\n",
    "UID: U79516048\n",
    "\n",
    "### Topics\n",
    "\n",
    "- Naive Bayes\n",
    "- Model Evaluation\n",
    "\n",
    "### Naive Bayes\n",
    "\n",
    "| Attribute A | Attribute B | Attribute C | Class |\n",
    "|-------------|-------------|-------------|-------|\n",
    "| Yes         | Single      | High        | No    |\n",
    "| No          | Married     | Mid         | No    |\n",
    "| No          | Single      | Low         | No    |\n",
    "| Yes         | Married     | High        | No    |\n",
    "| No          | Divorced    | Mid         | Yes   |\n",
    "| No          | Married     | Low         | No    |\n",
    "| Yes         | Divorced    | High        | No    |\n",
    "| No          | Single      | Mid         | Yes   |\n",
    "| No          | Married     | Low         | No    |\n",
    "| No          | Single      | Mid         | Yes   |\n",
    "\n",
    "a) Compute the following probabilities:\n",
    "\n",
    "- P(Attribute A = Yes | Class = No)\n",
    "- P(Attribute B = Divorced | Class = Yes)\n",
    "- P(Attribute C = High | Class = No)\n",
    "- P(Attribute C = Mid | Class = Yes)"
   ]
  },
  {
   "cell_type": "markdown",
   "metadata": {},
   "source": [
    "- 3/7\n",
    "- 1/3\n",
    "- 3/7\n",
    "- 0/3"
   ]
  },
  {
   "cell_type": "markdown",
   "metadata": {},
   "source": [
    "b) Classify the following unseen records:\n",
    "\n",
    "- (Yes, Married, Mid)\n",
    "- (No, Divorced, High)\n",
    "- (No, Single, High)\n",
    "- (No, Divorced, Low)"
   ]
  },
  {
   "cell_type": "markdown",
   "metadata": {},
   "source": [
    "P(A=\"Yes\") = 3/10\n",
    "\n",
    "P(B=\"Single\") = 4/10 & P(B=\"Married\") = 4/10\n",
    "\n",
    "P(C=\"Low\") = 3/10 & P(C=\"Mid\") = 4/10\n",
    "\n",
    "- No\n",
    "- No\n",
    "- No\n",
    "- No"
   ]
  },
  {
   "cell_type": "markdown",
   "metadata": {},
   "source": [
    "### Model Evaluation\n",
    "\n",
    "a) Write a function to generate the confusion matrix for a list of actual classes and a list of predicted classes"
   ]
  },
  {
   "cell_type": "code",
   "execution_count": 3,
   "metadata": {},
   "outputs": [
    {
     "name": "stdout",
     "output_type": "stream",
     "text": [
      "{'TP': 2, 'TN': 4, 'FP': 3, 'FN': 1}\n"
     ]
    }
   ],
   "source": [
    "actual_class = [\"Yes\", \"No\", \"No\", \"Yes\", \"No\", \"No\", \"Yes\", \"No\", \"No\", \"No\"]\n",
    "predicted_class = [\"Yes\", \"No\", \"Yes\", \"No\", \"No\", \"No\", \"Yes\", \"Yes\", \"Yes\", \"No\"]\n",
    "\n",
    "def confusion_matrix(actual, predicted):\n",
    "    result = {\n",
    "        \"TP\": 0,\n",
    "        \"TN\": 0,\n",
    "        \"FP\": 0,\n",
    "        \"FN\": 0\n",
    "    }\n",
    "    for i in range(len(actual)):\n",
    "        if actual[i] == \"Yes\" and predicted[i] == \"Yes\":\n",
    "            result[\"TP\"] += 1\n",
    "        elif actual[i] == \"No\" and predicted[i] == \"No\":\n",
    "            result[\"TN\"] += 1\n",
    "        elif actual[i] == \"No\" and predicted[i] == \"Yes\":\n",
    "            result[\"FP\"] += 1\n",
    "        elif actual[i] == \"Yes\" and predicted[i] == \"No\":\n",
    "            result[\"FN\"] += 1\n",
    "    return result\n",
    "\n",
    "print(confusion_matrix(actual_class, predicted_class))"
   ]
  },
  {
   "cell_type": "markdown",
   "metadata": {},
   "source": [
    "b) Assume you have the following Cost Matrix:\n",
    "\n",
    "|            | predicted = Y | predicted = N |\n",
    "|------------|---------------|---------------|\n",
    "| actual = Y |       -1      |       5       |\n",
    "| actual = N |        10     |       0       |\n",
    "\n",
    "What is the cost of the above classification?"
   ]
  },
  {
   "cell_type": "markdown",
   "metadata": {},
   "source": [
    "TP * -1 = -2\n",
    "\n",
    "TN * 0 = 0\n",
    "\n",
    "FP * 10 = 30\n",
    "\n",
    "FN * 5 = 5\n",
    "\n",
    "-2 + 0 + 30 + 5 = 33"
   ]
  },
  {
   "cell_type": "markdown",
   "metadata": {},
   "source": [
    "c) Write a function that takes in the actual values, the predictions, and a cost matrix and outputs a cost. Test it on the above example."
   ]
  },
  {
   "cell_type": "code",
   "execution_count": 4,
   "metadata": {},
   "outputs": [
    {
     "name": "stdout",
     "output_type": "stream",
     "text": [
      "33\n"
     ]
    }
   ],
   "source": [
    "def classification_cost(actual, predicted, cost_matrix):\n",
    "    result = 0\n",
    "    for i in range(len(actual)):\n",
    "        if actual[i] == \"Yes\" and predicted[i] == \"Yes\":\n",
    "            result += cost_matrix[\"TP\"]\n",
    "        elif actual[i] == \"No\" and predicted[i] == \"No\":\n",
    "            result += cost_matrix[\"TN\"]\n",
    "        elif actual[i] == \"No\" and predicted[i] == \"Yes\":\n",
    "            result += cost_matrix[\"FP\"]\n",
    "        elif actual[i] == \"Yes\" and predicted[i] == \"No\":\n",
    "            result += cost_matrix[\"FN\"]\n",
    "    return result\n",
    "\n",
    "cost_matrix = {\n",
    "    \"TP\": -1,\n",
    "    \"TN\": 0,\n",
    "    \"FP\": 10,\n",
    "    \"FN\": 5\n",
    "}\n",
    "\n",
    "print(classification_cost(actual_class, predicted_class, cost_matrix))"
   ]
  },
  {
   "cell_type": "markdown",
   "metadata": {},
   "source": [
    "d) Implement functions for the following:\n",
    "\n",
    "- accuracy\n",
    "- precision\n",
    "- recall\n",
    "- f-measure\n",
    "\n",
    "and apply them to the above example."
   ]
  },
  {
   "cell_type": "code",
   "execution_count": 5,
   "metadata": {},
   "outputs": [
    {
     "name": "stdout",
     "output_type": "stream",
     "text": [
      "0.6\n",
      "0.4\n",
      "0.6666666666666666\n",
      "0.5\n"
     ]
    }
   ],
   "source": [
    "def accuracy(actual, predicted):\n",
    "    cm = confusion_matrix(actual, predicted)\n",
    "    return (cm[\"TP\"] + cm[\"TN\"]) / (cm[\"TP\"] + cm[\"TN\"] + cm[\"FP\"] + cm[\"FN\"])\n",
    "\n",
    "def precision(actual, predicted):\n",
    "    cm = confusion_matrix(actual, predicted)\n",
    "    return cm[\"TP\"] / (cm[\"TP\"] + cm[\"FP\"])\n",
    "\n",
    "def recall(actual, predicted):\n",
    "    cm = confusion_matrix(actual, predicted)\n",
    "    return cm[\"TP\"] / (cm[\"TP\"] + cm[\"FN\"])\n",
    "\n",
    "def f_measure(actual, predicted):\n",
    "    p = precision(actual, predicted)\n",
    "    r = recall(actual, predicted)\n",
    "    return 2 * p * r / (p + r)\n",
    "\n",
    "print(accuracy(actual_class, predicted_class))\n",
    "print(precision(actual_class, predicted_class))\n",
    "print(recall(actual_class, predicted_class))\n",
    "print(f_measure(actual_class, predicted_class))"
   ]
  }
 ],
 "metadata": {
  "kernelspec": {
   "display_name": "Python 3.10.4 64-bit",
   "language": "python",
   "name": "python3"
  },
  "language_info": {
   "codemirror_mode": {
    "name": "ipython",
    "version": 3
   },
   "file_extension": ".py",
   "mimetype": "text/x-python",
   "name": "python",
   "nbconvert_exporter": "python",
   "pygments_lexer": "ipython3",
   "version": "3.10.4"
  },
  "orig_nbformat": 4,
  "vscode": {
   "interpreter": {
    "hash": "916dbcbb3f70747c44a77c7bcd40155683ae19c65e1c03b4aa3499c5328201f1"
   }
  }
 },
 "nbformat": 4,
 "nbformat_minor": 2
}
